{
  "nbformat": 4,
  "nbformat_minor": 0,
  "metadata": {
    "colab": {
      "provenance": [],
      "gpuType": "T4"
    },
    "kernelspec": {
      "name": "python3",
      "display_name": "Python 3"
    },
    "language_info": {
      "name": "python"
    },
    "accelerator": "GPU",
    "widgets": {
      "application/vnd.jupyter.widget-state+json": {
        "a6e58fa2fe30471896909398875fbb04": {
          "model_module": "@jupyter-widgets/controls",
          "model_name": "HBoxModel",
          "model_module_version": "1.5.0",
          "state": {
            "_dom_classes": [],
            "_model_module": "@jupyter-widgets/controls",
            "_model_module_version": "1.5.0",
            "_model_name": "HBoxModel",
            "_view_count": null,
            "_view_module": "@jupyter-widgets/controls",
            "_view_module_version": "1.5.0",
            "_view_name": "HBoxView",
            "box_style": "",
            "children": [
              "IPY_MODEL_116e100573274b38a00341ddcb4d1bf6",
              "IPY_MODEL_65df5a6351354c9c8d8db7d479c1612f",
              "IPY_MODEL_ccb0028184a7468684769a76aedd3420"
            ],
            "layout": "IPY_MODEL_f12f5bc8a8454a168b68e39640410df6"
          }
        },
        "116e100573274b38a00341ddcb4d1bf6": {
          "model_module": "@jupyter-widgets/controls",
          "model_name": "HTMLModel",
          "model_module_version": "1.5.0",
          "state": {
            "_dom_classes": [],
            "_model_module": "@jupyter-widgets/controls",
            "_model_module_version": "1.5.0",
            "_model_name": "HTMLModel",
            "_view_count": null,
            "_view_module": "@jupyter-widgets/controls",
            "_view_module_version": "1.5.0",
            "_view_name": "HTMLView",
            "description": "",
            "description_tooltip": null,
            "layout": "IPY_MODEL_9962675ea31c4cf7ab9c8b96a6f7bfc9",
            "placeholder": "​",
            "style": "IPY_MODEL_5d918dfbcbf84e46bd0daab547786598",
            "value": "100%"
          }
        },
        "65df5a6351354c9c8d8db7d479c1612f": {
          "model_module": "@jupyter-widgets/controls",
          "model_name": "FloatProgressModel",
          "model_module_version": "1.5.0",
          "state": {
            "_dom_classes": [],
            "_model_module": "@jupyter-widgets/controls",
            "_model_module_version": "1.5.0",
            "_model_name": "FloatProgressModel",
            "_view_count": null,
            "_view_module": "@jupyter-widgets/controls",
            "_view_module_version": "1.5.0",
            "_view_name": "ProgressView",
            "bar_style": "success",
            "description": "",
            "description_tooltip": null,
            "layout": "IPY_MODEL_9eb450c6b31349179f718ea071a9059f",
            "max": 111898327,
            "min": 0,
            "orientation": "horizontal",
            "style": "IPY_MODEL_23fafb7a0c7a45dd98ffbe5602666d1c",
            "value": 111898327
          }
        },
        "ccb0028184a7468684769a76aedd3420": {
          "model_module": "@jupyter-widgets/controls",
          "model_name": "HTMLModel",
          "model_module_version": "1.5.0",
          "state": {
            "_dom_classes": [],
            "_model_module": "@jupyter-widgets/controls",
            "_model_module_version": "1.5.0",
            "_model_name": "HTMLModel",
            "_view_count": null,
            "_view_module": "@jupyter-widgets/controls",
            "_view_module_version": "1.5.0",
            "_view_name": "HTMLView",
            "description": "",
            "description_tooltip": null,
            "layout": "IPY_MODEL_c1c0fc9868544eaaab8c3ea308fe50d5",
            "placeholder": "​",
            "style": "IPY_MODEL_92d4ca25a2bc4069ac718dea6b8b739d",
            "value": " 107M/107M [00:00&lt;00:00, 265MB/s]"
          }
        },
        "f12f5bc8a8454a168b68e39640410df6": {
          "model_module": "@jupyter-widgets/base",
          "model_name": "LayoutModel",
          "model_module_version": "1.2.0",
          "state": {
            "_model_module": "@jupyter-widgets/base",
            "_model_module_version": "1.2.0",
            "_model_name": "LayoutModel",
            "_view_count": null,
            "_view_module": "@jupyter-widgets/base",
            "_view_module_version": "1.2.0",
            "_view_name": "LayoutView",
            "align_content": null,
            "align_items": null,
            "align_self": null,
            "border": null,
            "bottom": null,
            "display": null,
            "flex": null,
            "flex_flow": null,
            "grid_area": null,
            "grid_auto_columns": null,
            "grid_auto_flow": null,
            "grid_auto_rows": null,
            "grid_column": null,
            "grid_gap": null,
            "grid_row": null,
            "grid_template_areas": null,
            "grid_template_columns": null,
            "grid_template_rows": null,
            "height": null,
            "justify_content": null,
            "justify_items": null,
            "left": null,
            "margin": null,
            "max_height": null,
            "max_width": null,
            "min_height": null,
            "min_width": null,
            "object_fit": null,
            "object_position": null,
            "order": null,
            "overflow": null,
            "overflow_x": null,
            "overflow_y": null,
            "padding": null,
            "right": null,
            "top": null,
            "visibility": null,
            "width": null
          }
        },
        "9962675ea31c4cf7ab9c8b96a6f7bfc9": {
          "model_module": "@jupyter-widgets/base",
          "model_name": "LayoutModel",
          "model_module_version": "1.2.0",
          "state": {
            "_model_module": "@jupyter-widgets/base",
            "_model_module_version": "1.2.0",
            "_model_name": "LayoutModel",
            "_view_count": null,
            "_view_module": "@jupyter-widgets/base",
            "_view_module_version": "1.2.0",
            "_view_name": "LayoutView",
            "align_content": null,
            "align_items": null,
            "align_self": null,
            "border": null,
            "bottom": null,
            "display": null,
            "flex": null,
            "flex_flow": null,
            "grid_area": null,
            "grid_auto_columns": null,
            "grid_auto_flow": null,
            "grid_auto_rows": null,
            "grid_column": null,
            "grid_gap": null,
            "grid_row": null,
            "grid_template_areas": null,
            "grid_template_columns": null,
            "grid_template_rows": null,
            "height": null,
            "justify_content": null,
            "justify_items": null,
            "left": null,
            "margin": null,
            "max_height": null,
            "max_width": null,
            "min_height": null,
            "min_width": null,
            "object_fit": null,
            "object_position": null,
            "order": null,
            "overflow": null,
            "overflow_x": null,
            "overflow_y": null,
            "padding": null,
            "right": null,
            "top": null,
            "visibility": null,
            "width": null
          }
        },
        "5d918dfbcbf84e46bd0daab547786598": {
          "model_module": "@jupyter-widgets/controls",
          "model_name": "DescriptionStyleModel",
          "model_module_version": "1.5.0",
          "state": {
            "_model_module": "@jupyter-widgets/controls",
            "_model_module_version": "1.5.0",
            "_model_name": "DescriptionStyleModel",
            "_view_count": null,
            "_view_module": "@jupyter-widgets/base",
            "_view_module_version": "1.2.0",
            "_view_name": "StyleView",
            "description_width": ""
          }
        },
        "9eb450c6b31349179f718ea071a9059f": {
          "model_module": "@jupyter-widgets/base",
          "model_name": "LayoutModel",
          "model_module_version": "1.2.0",
          "state": {
            "_model_module": "@jupyter-widgets/base",
            "_model_module_version": "1.2.0",
            "_model_name": "LayoutModel",
            "_view_count": null,
            "_view_module": "@jupyter-widgets/base",
            "_view_module_version": "1.2.0",
            "_view_name": "LayoutView",
            "align_content": null,
            "align_items": null,
            "align_self": null,
            "border": null,
            "bottom": null,
            "display": null,
            "flex": null,
            "flex_flow": null,
            "grid_area": null,
            "grid_auto_columns": null,
            "grid_auto_flow": null,
            "grid_auto_rows": null,
            "grid_column": null,
            "grid_gap": null,
            "grid_row": null,
            "grid_template_areas": null,
            "grid_template_columns": null,
            "grid_template_rows": null,
            "height": null,
            "justify_content": null,
            "justify_items": null,
            "left": null,
            "margin": null,
            "max_height": null,
            "max_width": null,
            "min_height": null,
            "min_width": null,
            "object_fit": null,
            "object_position": null,
            "order": null,
            "overflow": null,
            "overflow_x": null,
            "overflow_y": null,
            "padding": null,
            "right": null,
            "top": null,
            "visibility": null,
            "width": null
          }
        },
        "23fafb7a0c7a45dd98ffbe5602666d1c": {
          "model_module": "@jupyter-widgets/controls",
          "model_name": "ProgressStyleModel",
          "model_module_version": "1.5.0",
          "state": {
            "_model_module": "@jupyter-widgets/controls",
            "_model_module_version": "1.5.0",
            "_model_name": "ProgressStyleModel",
            "_view_count": null,
            "_view_module": "@jupyter-widgets/base",
            "_view_module_version": "1.2.0",
            "_view_name": "StyleView",
            "bar_color": null,
            "description_width": ""
          }
        },
        "c1c0fc9868544eaaab8c3ea308fe50d5": {
          "model_module": "@jupyter-widgets/base",
          "model_name": "LayoutModel",
          "model_module_version": "1.2.0",
          "state": {
            "_model_module": "@jupyter-widgets/base",
            "_model_module_version": "1.2.0",
            "_model_name": "LayoutModel",
            "_view_count": null,
            "_view_module": "@jupyter-widgets/base",
            "_view_module_version": "1.2.0",
            "_view_name": "LayoutView",
            "align_content": null,
            "align_items": null,
            "align_self": null,
            "border": null,
            "bottom": null,
            "display": null,
            "flex": null,
            "flex_flow": null,
            "grid_area": null,
            "grid_auto_columns": null,
            "grid_auto_flow": null,
            "grid_auto_rows": null,
            "grid_column": null,
            "grid_gap": null,
            "grid_row": null,
            "grid_template_areas": null,
            "grid_template_columns": null,
            "grid_template_rows": null,
            "height": null,
            "justify_content": null,
            "justify_items": null,
            "left": null,
            "margin": null,
            "max_height": null,
            "max_width": null,
            "min_height": null,
            "min_width": null,
            "object_fit": null,
            "object_position": null,
            "order": null,
            "overflow": null,
            "overflow_x": null,
            "overflow_y": null,
            "padding": null,
            "right": null,
            "top": null,
            "visibility": null,
            "width": null
          }
        },
        "92d4ca25a2bc4069ac718dea6b8b739d": {
          "model_module": "@jupyter-widgets/controls",
          "model_name": "DescriptionStyleModel",
          "model_module_version": "1.5.0",
          "state": {
            "_model_module": "@jupyter-widgets/controls",
            "_model_module_version": "1.5.0",
            "_model_name": "DescriptionStyleModel",
            "_view_count": null,
            "_view_module": "@jupyter-widgets/base",
            "_view_module_version": "1.2.0",
            "_view_name": "StyleView",
            "description_width": ""
          }
        }
      }
    }
  },
  "cells": [
    {
      "cell_type": "code",
      "execution_count": 1,
      "metadata": {
        "id": "yel3s22GAi2d",
        "colab": {
          "base_uri": "https://localhost:8080/",
          "height": 269
        },
        "outputId": "47653e14-9edd-4232-b013-ac54965c889e"
      },
      "outputs": [
        {
          "output_type": "stream",
          "name": "stdout",
          "text": [
            "Found existing installation: pillow 11.3.0\n",
            "Uninstalling pillow-11.3.0:\n",
            "  Successfully uninstalled pillow-11.3.0\n",
            "Collecting pillow==10.2.0\n",
            "  Downloading pillow-10.2.0-cp312-cp312-manylinux_2_28_x86_64.whl.metadata (9.7 kB)\n",
            "Downloading pillow-10.2.0-cp312-cp312-manylinux_2_28_x86_64.whl (4.5 MB)\n",
            "\u001b[2K   \u001b[90m━━━━━━━━━━━━━━━━━━━━━━━━━━━━━━━━━━━━━━━━\u001b[0m \u001b[32m4.5/4.5 MB\u001b[0m \u001b[31m81.8 MB/s\u001b[0m eta \u001b[36m0:00:00\u001b[0m\n",
            "\u001b[?25hInstalling collected packages: pillow\n",
            "Successfully installed pillow-10.2.0\n"
          ]
        },
        {
          "output_type": "display_data",
          "data": {
            "application/vnd.colab-display-data+json": {
              "pip_warning": {
                "packages": [
                  "PIL"
                ]
              },
              "id": "081d8b99c119470880100f22e4797085"
            }
          },
          "metadata": {}
        }
      ],
      "source": [
        "!pip uninstall -y pillow\n",
        "!pip install pillow==10.2.0 --force-reinstall --no-cache-dir\n"
      ]
    },
    {
      "cell_type": "code",
      "source": [
        "!pip install facenet-pytorch\n",
        "\n",
        "import os\n",
        "import numpy as np\n",
        "import torch\n",
        "from facenet_pytorch import InceptionResnetV1\n",
        "from sklearn.svm import SVC\n",
        "from sklearn.metrics import accuracy_score, classification_report\n",
        "from sklearn.model_selection import train_test_split\n",
        "from PIL import Image\n",
        "import torchvision.transforms as transforms\n",
        "import joblib\n",
        "from collections import Counter\n"
      ],
      "metadata": {
        "id": "z2SsUEcjE6PU",
        "colab": {
          "base_uri": "https://localhost:8080/"
        },
        "outputId": "38b9f6fb-4069-42c2-d82e-52c5164e31ef"
      },
      "execution_count": 1,
      "outputs": [
        {
          "output_type": "stream",
          "name": "stdout",
          "text": [
            "Requirement already satisfied: facenet-pytorch in /usr/local/lib/python3.12/dist-packages (2.6.0)\n",
            "Requirement already satisfied: numpy<2.0.0,>=1.24.0 in /usr/local/lib/python3.12/dist-packages (from facenet-pytorch) (1.26.4)\n",
            "Requirement already satisfied: Pillow<10.3.0,>=10.2.0 in /usr/local/lib/python3.12/dist-packages (from facenet-pytorch) (10.2.0)\n",
            "Requirement already satisfied: requests<3.0.0,>=2.0.0 in /usr/local/lib/python3.12/dist-packages (from facenet-pytorch) (2.32.4)\n",
            "Requirement already satisfied: torch<2.3.0,>=2.2.0 in /usr/local/lib/python3.12/dist-packages (from facenet-pytorch) (2.2.2)\n",
            "Requirement already satisfied: torchvision<0.18.0,>=0.17.0 in /usr/local/lib/python3.12/dist-packages (from facenet-pytorch) (0.17.2)\n",
            "Requirement already satisfied: tqdm<5.0.0,>=4.0.0 in /usr/local/lib/python3.12/dist-packages (from facenet-pytorch) (4.67.1)\n",
            "Requirement already satisfied: charset_normalizer<4,>=2 in /usr/local/lib/python3.12/dist-packages (from requests<3.0.0,>=2.0.0->facenet-pytorch) (3.4.3)\n",
            "Requirement already satisfied: idna<4,>=2.5 in /usr/local/lib/python3.12/dist-packages (from requests<3.0.0,>=2.0.0->facenet-pytorch) (3.10)\n",
            "Requirement already satisfied: urllib3<3,>=1.21.1 in /usr/local/lib/python3.12/dist-packages (from requests<3.0.0,>=2.0.0->facenet-pytorch) (2.5.0)\n",
            "Requirement already satisfied: certifi>=2017.4.17 in /usr/local/lib/python3.12/dist-packages (from requests<3.0.0,>=2.0.0->facenet-pytorch) (2025.8.3)\n",
            "Requirement already satisfied: filelock in /usr/local/lib/python3.12/dist-packages (from torch<2.3.0,>=2.2.0->facenet-pytorch) (3.19.1)\n",
            "Requirement already satisfied: typing-extensions>=4.8.0 in /usr/local/lib/python3.12/dist-packages (from torch<2.3.0,>=2.2.0->facenet-pytorch) (4.15.0)\n",
            "Requirement already satisfied: sympy in /usr/local/lib/python3.12/dist-packages (from torch<2.3.0,>=2.2.0->facenet-pytorch) (1.13.3)\n",
            "Requirement already satisfied: networkx in /usr/local/lib/python3.12/dist-packages (from torch<2.3.0,>=2.2.0->facenet-pytorch) (3.5)\n",
            "Requirement already satisfied: jinja2 in /usr/local/lib/python3.12/dist-packages (from torch<2.3.0,>=2.2.0->facenet-pytorch) (3.1.6)\n",
            "Requirement already satisfied: fsspec in /usr/local/lib/python3.12/dist-packages (from torch<2.3.0,>=2.2.0->facenet-pytorch) (2025.3.0)\n",
            "Requirement already satisfied: nvidia-cuda-nvrtc-cu12==12.1.105 in /usr/local/lib/python3.12/dist-packages (from torch<2.3.0,>=2.2.0->facenet-pytorch) (12.1.105)\n",
            "Requirement already satisfied: nvidia-cuda-runtime-cu12==12.1.105 in /usr/local/lib/python3.12/dist-packages (from torch<2.3.0,>=2.2.0->facenet-pytorch) (12.1.105)\n",
            "Requirement already satisfied: nvidia-cuda-cupti-cu12==12.1.105 in /usr/local/lib/python3.12/dist-packages (from torch<2.3.0,>=2.2.0->facenet-pytorch) (12.1.105)\n",
            "Requirement already satisfied: nvidia-cudnn-cu12==8.9.2.26 in /usr/local/lib/python3.12/dist-packages (from torch<2.3.0,>=2.2.0->facenet-pytorch) (8.9.2.26)\n",
            "Requirement already satisfied: nvidia-cublas-cu12==12.1.3.1 in /usr/local/lib/python3.12/dist-packages (from torch<2.3.0,>=2.2.0->facenet-pytorch) (12.1.3.1)\n",
            "Requirement already satisfied: nvidia-cufft-cu12==11.0.2.54 in /usr/local/lib/python3.12/dist-packages (from torch<2.3.0,>=2.2.0->facenet-pytorch) (11.0.2.54)\n",
            "Requirement already satisfied: nvidia-curand-cu12==10.3.2.106 in /usr/local/lib/python3.12/dist-packages (from torch<2.3.0,>=2.2.0->facenet-pytorch) (10.3.2.106)\n",
            "Requirement already satisfied: nvidia-cusolver-cu12==11.4.5.107 in /usr/local/lib/python3.12/dist-packages (from torch<2.3.0,>=2.2.0->facenet-pytorch) (11.4.5.107)\n",
            "Requirement already satisfied: nvidia-cusparse-cu12==12.1.0.106 in /usr/local/lib/python3.12/dist-packages (from torch<2.3.0,>=2.2.0->facenet-pytorch) (12.1.0.106)\n",
            "Requirement already satisfied: nvidia-nccl-cu12==2.19.3 in /usr/local/lib/python3.12/dist-packages (from torch<2.3.0,>=2.2.0->facenet-pytorch) (2.19.3)\n",
            "Requirement already satisfied: nvidia-nvtx-cu12==12.1.105 in /usr/local/lib/python3.12/dist-packages (from torch<2.3.0,>=2.2.0->facenet-pytorch) (12.1.105)\n",
            "Requirement already satisfied: nvidia-nvjitlink-cu12 in /usr/local/lib/python3.12/dist-packages (from nvidia-cusolver-cu12==11.4.5.107->torch<2.3.0,>=2.2.0->facenet-pytorch) (12.6.85)\n",
            "Requirement already satisfied: MarkupSafe>=2.0 in /usr/local/lib/python3.12/dist-packages (from jinja2->torch<2.3.0,>=2.2.0->facenet-pytorch) (3.0.3)\n",
            "Requirement already satisfied: mpmath<1.4,>=1.1.0 in /usr/local/lib/python3.12/dist-packages (from sympy->torch<2.3.0,>=2.2.0->facenet-pytorch) (1.3.0)\n"
          ]
        }
      ]
    },
    {
      "cell_type": "code",
      "source": [
        "import kagglehub\n",
        "import tarfile\n",
        "import os\n",
        "\n",
        "\n",
        "path = kagglehub.dataset_download(\"atulanandjha/lfwpeople\")\n",
        "print(\"✅ Dataset downloaded to:\", path)\n",
        "\n",
        "tgz_path = os.path.join(path, \"lfw-funneled.tgz\")\n",
        "\n",
        "extract_path = \"/kaggle/working/lfw_funneled\"\n",
        "\n",
        "with tarfile.open(tgz_path, \"r:gz\") as tar:\n",
        "    tar.extractall(path=extract_path)\n",
        "\n",
        "print(\"✅ Extraction done!\")\n",
        "print(\"📂 Number of folders:\", len(os.listdir(extract_path)))\n",
        "print(\"📂 First 5 people:\", os.listdir(extract_path)[:5])\n"
      ],
      "metadata": {
        "id": "JTiF8E2hBiSp",
        "colab": {
          "base_uri": "https://localhost:8080/"
        },
        "outputId": "17fb0917-f6fd-4f6d-d14a-91e57955ae82"
      },
      "execution_count": 2,
      "outputs": [
        {
          "output_type": "stream",
          "name": "stdout",
          "text": [
            "Downloading from https://www.kaggle.com/api/v1/datasets/download/atulanandjha/lfwpeople?dataset_version_number=3...\n"
          ]
        },
        {
          "output_type": "stream",
          "name": "stderr",
          "text": [
            "100%|██████████| 232M/232M [00:02<00:00, 106MB/s]"
          ]
        },
        {
          "output_type": "stream",
          "name": "stdout",
          "text": [
            "Extracting files...\n"
          ]
        },
        {
          "output_type": "stream",
          "name": "stderr",
          "text": [
            "\n"
          ]
        },
        {
          "output_type": "stream",
          "name": "stdout",
          "text": [
            "✅ Dataset downloaded to: /root/.cache/kagglehub/datasets/atulanandjha/lfwpeople/versions/3\n"
          ]
        },
        {
          "output_type": "stream",
          "name": "stderr",
          "text": [
            "/tmp/ipython-input-3646392181.py:17: DeprecationWarning: Python 3.14 will, by default, filter extracted tar archives and reject files or modify their metadata. Use the filter argument to control this behavior.\n",
            "  tar.extractall(path=extract_path)\n"
          ]
        },
        {
          "output_type": "stream",
          "name": "stdout",
          "text": [
            "✅ Extraction done!\n",
            "📂 Number of folders: 1\n",
            "📂 First 5 people: ['lfw_funneled']\n"
          ]
        }
      ]
    },
    {
      "cell_type": "code",
      "source": [
        "import torch\n",
        "from facenet_pytorch import InceptionResnetV1\n",
        "import torchvision.transforms as transforms\n",
        "from PIL import Image\n",
        "import numpy as np\n",
        "\n",
        "\n",
        "# Use GPU if available\n",
        "device = torch.device(\"cuda\" if torch.cuda.is_available() else \"cpu\")\n",
        "print(\"✅ Using device:\", device)\n",
        "\n",
        "# Load FaceNet\n",
        "facenet = InceptionResnetV1(pretrained=\"vggface2\").eval().to(device)\n",
        "\n",
        "# Required transforms\n",
        "transform = transforms.Compose([\n",
        "    transforms.Resize((160, 160)),\n",
        "    transforms.ToTensor(),\n",
        "    transforms.Normalize([0.5], [0.5])\n",
        "])\n",
        "\n",
        "def get_embedding(image_pil):\n",
        "    img_tensor = transform(image_pil).unsqueeze(0).to(device)\n",
        "    with torch.no_grad():\n",
        "        emb = facenet(img_tensor)\n",
        "    return emb.squeeze(0).cpu().numpy()\n"
      ],
      "metadata": {
        "id": "qnCSiEFhB3Jf",
        "colab": {
          "base_uri": "https://localhost:8080/",
          "height": 66,
          "referenced_widgets": [
            "a6e58fa2fe30471896909398875fbb04",
            "116e100573274b38a00341ddcb4d1bf6",
            "65df5a6351354c9c8d8db7d479c1612f",
            "ccb0028184a7468684769a76aedd3420",
            "f12f5bc8a8454a168b68e39640410df6",
            "9962675ea31c4cf7ab9c8b96a6f7bfc9",
            "5d918dfbcbf84e46bd0daab547786598",
            "9eb450c6b31349179f718ea071a9059f",
            "23fafb7a0c7a45dd98ffbe5602666d1c",
            "c1c0fc9868544eaaab8c3ea308fe50d5",
            "92d4ca25a2bc4069ac718dea6b8b739d"
          ]
        },
        "outputId": "84c0b3ad-44f4-464c-b50a-381b727f97a3"
      },
      "execution_count": 3,
      "outputs": [
        {
          "output_type": "stream",
          "name": "stdout",
          "text": [
            "✅ Using device: cuda\n"
          ]
        },
        {
          "output_type": "display_data",
          "data": {
            "text/plain": [
              "  0%|          | 0.00/107M [00:00<?, ?B/s]"
            ],
            "application/vnd.jupyter.widget-view+json": {
              "version_major": 2,
              "version_minor": 0,
              "model_id": "a6e58fa2fe30471896909398875fbb04"
            }
          },
          "metadata": {}
        }
      ]
    },
    {
      "cell_type": "code",
      "source": [
        "X, y = [], []\n",
        "\n",
        "lfw_root = os.path.join(extract_path, \"lfw_funneled\")\n",
        "\n",
        "for person in os.listdir(lfw_root):\n",
        "    person_folder = os.path.join(lfw_root, person)\n",
        "    if not os.path.isdir(person_folder):\n",
        "        continue\n",
        "\n",
        "    for img_name in os.listdir(person_folder):\n",
        "        img_path = os.path.join(person_folder, img_name)\n",
        "        if os.path.isfile(img_path):\n",
        "            try:\n",
        "                img = Image.open(img_path).convert(\"RGB\")\n",
        "                emb = get_embedding(img)\n",
        "                X.append(emb)\n",
        "                y.append(person)\n",
        "            except Exception as e:\n",
        "                print(\"❌ Error with:\", img_path, e)\n",
        "\n",
        "X = np.array(X)\n",
        "y = np.array(y)\n",
        "\n",
        "print(\"✅ Number of embeddings:\", X.shape)\n",
        "print(\"✅ Number of people:\", len(set(y)))\n"
      ],
      "metadata": {
        "id": "454TWQdTCWUH",
        "colab": {
          "base_uri": "https://localhost:8080/"
        },
        "outputId": "7d9e631f-6ae9-4888-ac06-819133c6887b"
      },
      "execution_count": 4,
      "outputs": [
        {
          "output_type": "stream",
          "name": "stdout",
          "text": [
            "✅ Number of embeddings: (13233, 512)\n",
            "✅ Number of people: 5749\n"
          ]
        }
      ]
    },
    {
      "cell_type": "code",
      "source": [
        "import numpy as np\n",
        "from collections import Counter\n",
        "from sklearn.svm import SVC\n",
        "from sklearn.model_selection import train_test_split\n",
        "from sklearn.metrics import accuracy_score, classification_report\n",
        "import joblib\n",
        "\n",
        "\n",
        "counts = Counter(y)\n",
        "mask = np.array([counts[label] > 1 for label in y])\n",
        "\n",
        "X_filtered = X[mask]\n",
        "y_filtered = y[mask]\n",
        "\n",
        "print(\"✅ After filtering:\")\n",
        "print(\"Number of images:\", X_filtered.shape[0])\n",
        "print(\"Number of people:\", len(set(y_filtered)))\n",
        "\n",
        "\n",
        "X_train, X_test, y_train, y_test = train_test_split(\n",
        "    X_filtered, y_filtered, test_size=0.2, random_state=42, stratify=y_filtered\n",
        ")\n",
        "\n",
        "classifier = SVC(kernel=\"linear\", probability=True)\n",
        "classifier.fit(X_train, y_train)\n",
        "\n",
        "joblib.dump(classifier, \"classifier.pkl\")\n",
        "print(\"✅ Model trained and saved as classifier.pkl\")\n",
        "\n",
        "\n",
        "y_pred = classifier.predict(X_test)\n",
        "acc = accuracy_score(y_test, y_pred)\n",
        "print(f\"📊 Accuracy on test set: {acc*100:.2f}%\")\n",
        "\n",
        "print(\"\\n📑 Classification Report (first 20 classes):\")\n",
        "print(classification_report(y_test, y_pred, labels=np.unique(y_test)[:20]))\n",
        "\n",
        "counts = Counter(y)\n",
        "mask = np.array([counts[label] > 1 for label in y])\n",
        "\n",
        "X_filtered = X[mask]\n",
        "y_filtered = y[mask]\n",
        "\n",
        "print(\"✅ After filtering:\")\n",
        "print(\"Number of images:\", X_filtered.shape[0])\n",
        "print(\"Number of persons:\", len(set(y_filtered)))\n",
        "\n",
        "\n",
        "\n",
        "X_train, X_test, y_train, y_test = train_test_split(\n",
        "    X_filtered, y_filtered, test_size=0.2, random_state=42, stratify=y_filtered\n",
        ")\n",
        "\n",
        "\n",
        "classifier = SVC(kernel=\"linear\", probability=True)\n",
        "classifier.fit(X_train, y_train)\n",
        "\n",
        "\n",
        "joblib.dump(classifier, \"classifier.pkl\")\n",
        "print(\"✅ Model trained and saved as classifier.pkl\")\n",
        "\n",
        "\n",
        "y_pred = classifier.predict(X_test)\n",
        "acc = accuracy_score(y_test, y_pred)\n",
        "print(f\"📊 Accuracy on test set: {acc*100:.2f}%\")\n",
        "\n",
        "print(\"\\n📑 Classification Report (first 20 classes):\")\n",
        "print(classification_report(y_test, y_pred, labels=np.unique(y_test)[:20]))\n"
      ],
      "metadata": {
        "id": "bFSMW5zECsKk",
        "colab": {
          "base_uri": "https://localhost:8080/"
        },
        "outputId": "d82e427e-a609-40ce-98db-9ecba9f34fd5"
      },
      "execution_count": 5,
      "outputs": [
        {
          "output_type": "stream",
          "name": "stdout",
          "text": [
            "✅ بعد التصفية:\n",
            "عدد الصور: 9164\n",
            "عدد الأشخاص: 1680\n",
            "✅ Model trained and saved as classifier.pkl\n",
            "📊 Accuracy on test set: 80.03%\n",
            "\n",
            "📑 Classification Report (first 20 classes):\n",
            "                              precision    recall  f1-score   support\n",
            "\n",
            "               Aaron_Peirsol       0.50      1.00      0.67         1\n",
            "         Abdel_Nasser_Assidi       0.00      0.00      0.00         1\n",
            "              Abdoulaye_Wade       1.00      1.00      1.00         1\n",
            "                    Abdullah       1.00      1.00      1.00         1\n",
            "                Abdullah_Gul       0.57      1.00      0.73         4\n",
            "         Abdullah_al-Attiyah       1.00      1.00      1.00         1\n",
            "                Abel_Pacheco       1.00      1.00      1.00         1\n",
            "Abid_Hamid_Mahmud_Al-Tikriti       0.00      0.00      0.00         1\n",
            "                Adam_Sandler       0.50      1.00      0.67         1\n",
            "              Adel_Al-Jubeir       0.00      0.00      0.00         1\n",
            "       Adolfo_Aguilar_Zinser       0.00      0.00      0.00         1\n",
            "                Adrien_Brody       1.00      1.00      1.00         3\n",
            "               Ahmed_Chalabi       1.00      1.00      1.00         1\n",
            "          Ahmet_Necdet_Sezer       0.00      0.00      0.00         1\n",
            "                 Ai_Sugiyama       1.00      1.00      1.00         1\n",
            "              Aicha_El_Ouafi       1.00      1.00      1.00         1\n",
            "    Akbar_Hashemi_Rafsanjani       1.00      1.00      1.00         1\n",
            "              Akhmed_Zakayev       1.00      1.00      1.00         1\n",
            "                     Al_Gore       1.00      1.00      1.00         2\n",
            "                   Al_Pacino       0.00      0.00      0.00         1\n",
            "\n",
            "                   micro avg       0.80      0.77      0.78        26\n",
            "                   macro avg       0.63      0.70      0.65        26\n",
            "                weighted avg       0.66      0.77      0.70        26\n",
            "\n",
            "✅ بعد التصفية:\n",
            "عدد الصور: 9164\n",
            "عدد الأشخاص: 1680\n"
          ]
        },
        {
          "output_type": "stream",
          "name": "stderr",
          "text": [
            "/usr/local/lib/python3.12/dist-packages/sklearn/metrics/_classification.py:1565: UndefinedMetricWarning: Precision is ill-defined and being set to 0.0 in labels with no predicted samples. Use `zero_division` parameter to control this behavior.\n",
            "  _warn_prf(average, modifier, f\"{metric.capitalize()} is\", len(result))\n",
            "/usr/local/lib/python3.12/dist-packages/sklearn/metrics/_classification.py:1565: UndefinedMetricWarning: Precision is ill-defined and being set to 0.0 in labels with no predicted samples. Use `zero_division` parameter to control this behavior.\n",
            "  _warn_prf(average, modifier, f\"{metric.capitalize()} is\", len(result))\n",
            "/usr/local/lib/python3.12/dist-packages/sklearn/metrics/_classification.py:1565: UndefinedMetricWarning: Precision is ill-defined and being set to 0.0 in labels with no predicted samples. Use `zero_division` parameter to control this behavior.\n",
            "  _warn_prf(average, modifier, f\"{metric.capitalize()} is\", len(result))\n"
          ]
        },
        {
          "output_type": "stream",
          "name": "stdout",
          "text": [
            "✅ Model trained and saved as classifier.pkl\n",
            "📊 Accuracy on test set: 80.03%\n",
            "\n",
            "📑 Classification Report (first 20 classes):\n",
            "                              precision    recall  f1-score   support\n",
            "\n",
            "               Aaron_Peirsol       0.50      1.00      0.67         1\n",
            "         Abdel_Nasser_Assidi       0.00      0.00      0.00         1\n",
            "              Abdoulaye_Wade       1.00      1.00      1.00         1\n",
            "                    Abdullah       1.00      1.00      1.00         1\n",
            "                Abdullah_Gul       0.57      1.00      0.73         4\n",
            "         Abdullah_al-Attiyah       1.00      1.00      1.00         1\n",
            "                Abel_Pacheco       1.00      1.00      1.00         1\n",
            "Abid_Hamid_Mahmud_Al-Tikriti       0.00      0.00      0.00         1\n",
            "                Adam_Sandler       0.50      1.00      0.67         1\n",
            "              Adel_Al-Jubeir       0.00      0.00      0.00         1\n",
            "       Adolfo_Aguilar_Zinser       0.00      0.00      0.00         1\n",
            "                Adrien_Brody       1.00      1.00      1.00         3\n",
            "               Ahmed_Chalabi       1.00      1.00      1.00         1\n",
            "          Ahmet_Necdet_Sezer       0.00      0.00      0.00         1\n",
            "                 Ai_Sugiyama       1.00      1.00      1.00         1\n",
            "              Aicha_El_Ouafi       1.00      1.00      1.00         1\n",
            "    Akbar_Hashemi_Rafsanjani       1.00      1.00      1.00         1\n",
            "              Akhmed_Zakayev       1.00      1.00      1.00         1\n",
            "                     Al_Gore       1.00      1.00      1.00         2\n",
            "                   Al_Pacino       0.00      0.00      0.00         1\n",
            "\n",
            "                   micro avg       0.80      0.77      0.78        26\n",
            "                   macro avg       0.63      0.70      0.65        26\n",
            "                weighted avg       0.66      0.77      0.70        26\n",
            "\n"
          ]
        },
        {
          "output_type": "stream",
          "name": "stderr",
          "text": [
            "/usr/local/lib/python3.12/dist-packages/sklearn/metrics/_classification.py:1565: UndefinedMetricWarning: Precision is ill-defined and being set to 0.0 in labels with no predicted samples. Use `zero_division` parameter to control this behavior.\n",
            "  _warn_prf(average, modifier, f\"{metric.capitalize()} is\", len(result))\n",
            "/usr/local/lib/python3.12/dist-packages/sklearn/metrics/_classification.py:1565: UndefinedMetricWarning: Precision is ill-defined and being set to 0.0 in labels with no predicted samples. Use `zero_division` parameter to control this behavior.\n",
            "  _warn_prf(average, modifier, f\"{metric.capitalize()} is\", len(result))\n",
            "/usr/local/lib/python3.12/dist-packages/sklearn/metrics/_classification.py:1565: UndefinedMetricWarning: Precision is ill-defined and being set to 0.0 in labels with no predicted samples. Use `zero_division` parameter to control this behavior.\n",
            "  _warn_prf(average, modifier, f\"{metric.capitalize()} is\", len(result))\n"
          ]
        }
      ]
    },
    {
      "cell_type": "code",
      "source": [
        "import os\n",
        "import random\n",
        "from PIL import Image\n",
        "\n",
        "lfw_root = os.path.join(extract_path, \"lfw_funneled\")\n",
        "\n",
        "\n",
        "rand_idx = random.randint(0, len(X_test)-1)\n",
        "true_person = y_test[rand_idx]\n",
        "\n",
        "\n",
        "person_folder = os.path.join(lfw_root, true_person)\n",
        "if not os.path.exists(person_folder):\n",
        "  raise FileNotFoundError(f\"❌ Person {true_person} not found in {lfw_root}\")\n",
        "\n",
        "img_name = random.choice(os.listdir(person_folder))\n",
        "test_img_path = os.path.join(person_folder, img_name)\n",
        "\n",
        "\n",
        "test_img = Image.open(test_img_path).convert(\"RGB\")\n",
        "test_emb = get_embedding(test_img).reshape(1, -1)\n",
        "\n",
        "pred = classifier.predict(test_emb)[0]\n",
        "proba = classifier.predict_proba(test_emb).max()\n",
        "\n",
        "print(\"🖼️ Test image path:\", test_img_path)\n",
        "print(\"🖼️ True person:\", true_person)\n",
        "print(\"🔍 Predicted:\", pred)\n",
        "\n"
      ],
      "metadata": {
        "id": "Z_X-35JmDM6o",
        "colab": {
          "base_uri": "https://localhost:8080/"
        },
        "outputId": "c9a0f956-efba-4142-e149-b4dcb8fbd2b4"
      },
      "execution_count": 6,
      "outputs": [
        {
          "output_type": "stream",
          "name": "stdout",
          "text": [
            "🖼️ Test image path: /kaggle/working/lfw_funneled/lfw_funneled/Colin_Powell/Colin_Powell_0039.jpg\n",
            "🖼️ True person: Colin_Powell\n",
            "🔍 Predicted: Colin_Powell\n"
          ]
        }
      ]
    },
    {
      "cell_type": "code",
      "source": [
        "from google.colab import files\n",
        "files.download(\"classifier.pkl\")\n"
      ],
      "metadata": {
        "colab": {
          "base_uri": "https://localhost:8080/",
          "height": 17
        },
        "id": "5D_ey8TyYZXo",
        "outputId": "bef2be88-9c7a-4c58-8a12-ef20653d3ab9"
      },
      "execution_count": 7,
      "outputs": [
        {
          "output_type": "display_data",
          "data": {
            "text/plain": [
              "<IPython.core.display.Javascript object>"
            ],
            "application/javascript": [
              "\n",
              "    async function download(id, filename, size) {\n",
              "      if (!google.colab.kernel.accessAllowed) {\n",
              "        return;\n",
              "      }\n",
              "      const div = document.createElement('div');\n",
              "      const label = document.createElement('label');\n",
              "      label.textContent = `Downloading \"${filename}\": `;\n",
              "      div.appendChild(label);\n",
              "      const progress = document.createElement('progress');\n",
              "      progress.max = size;\n",
              "      div.appendChild(progress);\n",
              "      document.body.appendChild(div);\n",
              "\n",
              "      const buffers = [];\n",
              "      let downloaded = 0;\n",
              "\n",
              "      const channel = await google.colab.kernel.comms.open(id);\n",
              "      // Send a message to notify the kernel that we're ready.\n",
              "      channel.send({})\n",
              "\n",
              "      for await (const message of channel.messages) {\n",
              "        // Send a message to notify the kernel that we're ready.\n",
              "        channel.send({})\n",
              "        if (message.buffers) {\n",
              "          for (const buffer of message.buffers) {\n",
              "            buffers.push(buffer);\n",
              "            downloaded += buffer.byteLength;\n",
              "            progress.value = downloaded;\n",
              "          }\n",
              "        }\n",
              "      }\n",
              "      const blob = new Blob(buffers, {type: 'application/binary'});\n",
              "      const a = document.createElement('a');\n",
              "      a.href = window.URL.createObjectURL(blob);\n",
              "      a.download = filename;\n",
              "      div.appendChild(a);\n",
              "      a.click();\n",
              "      div.remove();\n",
              "    }\n",
              "  "
            ]
          },
          "metadata": {}
        },
        {
          "output_type": "display_data",
          "data": {
            "text/plain": [
              "<IPython.core.display.Javascript object>"
            ],
            "application/javascript": [
              "download(\"download_36e665d6-7133-4b7f-8ade-262befee1ece\", \"classifier.pkl\", 278404551)"
            ]
          },
          "metadata": {}
        }
      ]
    }
  ]
}